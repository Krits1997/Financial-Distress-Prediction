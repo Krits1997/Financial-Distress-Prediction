{
  "nbformat": 4,
  "nbformat_minor": 0,
  "metadata": {
    "colab": {
      "name": "Function to convert arff files to csv.ipynb",
      "provenance": [],
      "authorship_tag": "ABX9TyNAEjwlLIZvoUC3LjmQKzxk",
      "include_colab_link": true
    },
    "kernelspec": {
      "name": "python3",
      "display_name": "Python 3"
    }
  },
  "cells": [
    {
      "cell_type": "markdown",
      "metadata": {
        "id": "view-in-github",
        "colab_type": "text"
      },
      "source": [
        "<a href=\"https://colab.research.google.com/github/Krits1997/Financial-Distress-Prediction/blob/master/Function_to_convert_arff_files_to_csv.ipynb\" target=\"_parent\"><img src=\"https://colab.research.google.com/assets/colab-badge.svg\" alt=\"Open In Colab\"/></a>"
      ]
    },
    {
      "cell_type": "markdown",
      "metadata": {
        "id": "-iGL65Bgw81K",
        "colab_type": "text"
      },
      "source": [
        "1. Put all your .arff files in a directory\n",
        "2. Place this script in the same directory as the files\n",
        "3. Run the script\n",
        "4. All the CSV files will be created in the same directory\n"
      ]
    },
    {
      "cell_type": "code",
      "metadata": {
        "id": "z7nIMFGSw5ON",
        "colab_type": "code",
        "colab": {}
      },
      "source": [
        "# Importing library\n",
        "import os\n",
        "\n",
        "# Getting all the arff files from the current directory\n",
        "files = [arff for arff in os.listdir('.') if arff.endswith(\".arff\")]\n",
        "\n",
        "# Function for converting arff list to csv list\n",
        "def toCsv(content):\n",
        "    data = False\n",
        "    header = \"\"\n",
        "    newContent = []\n",
        "    for line in content:\n",
        "        if not data:\n",
        "            if \"@attribute\" in line:\n",
        "                attri = line.split()\n",
        "                columnName = attri[attri.index(\"@attribute\")+1]\n",
        "                header = header + columnName + \",\"\n",
        "            elif \"@data\" in line:\n",
        "                data = True\n",
        "                header = header[:-1]\n",
        "                header += '\\n'\n",
        "                newContent.append(header)\n",
        "        else:\n",
        "            newContent.append(line)\n",
        "    return newContent\n",
        "\n",
        "# Main loop for reading and writing files\n",
        "for file in files:\n",
        "    with open(file , \"r\") as inFile:\n",
        "        content = inFile.readlines()\n",
        "        name,ext = os.path.splitext(inFile.name)\n",
        "        new = toCsv(content)\n",
        "        with open(name+\".csv\", \"w\") as outFile:\n",
        "            outFile.writelines(new)"
      ],
      "execution_count": null,
      "outputs": []
    }
  ]
}